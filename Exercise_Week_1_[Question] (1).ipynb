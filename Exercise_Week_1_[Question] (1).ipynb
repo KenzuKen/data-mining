{
  "cells": [
    {
      "cell_type": "markdown",
      "metadata": {
        "id": "re8S5yd8u1eZ"
      },
      "source": [
        "<h2> Python Basics"
      ]
    },
    {
      "cell_type": "markdown",
      "metadata": {
        "id": "5H441cQou1ee"
      },
      "source": [
        "I. Cobalah print kalimat \"Hello, my name is ***nama anda***\" dengan minimal 2 cara: <br>\n",
        "a.   Print biasa (nama diletakkan langsung dalam string yang di print)<br>\n",
        "b.  Menggunakan variabel (nama disimpan dulu di variabel)<br>\n",
        "c.  Menggunakan operator dan variabel<br>\n",
        "d.  Menggunakan .format()"
      ]
    },
    {
      "cell_type": "code",
      "execution_count": 1,
      "metadata": {
        "colab": {
          "base_uri": "https://localhost:8080/"
        },
        "id": "EJlHc6Ptu1ef",
        "outputId": "d13ccf50-49e3-46e7-d2b0-001ca9a8d947"
      },
      "outputs": [
        {
          "output_type": "stream",
          "name": "stdout",
          "text": [
            "Hello, my name is KENZU\n",
            "Hello, my name is KENZU\n"
          ]
        }
      ],
      "source": [
        "print(\"Hello, my name is KENZU\")\n",
        "nama = \"KENZU\"\n",
        "print(\"Hello, my name is \" + nama)"
      ]
    },
    {
      "cell_type": "markdown",
      "metadata": {
        "id": "ykD_f9Cfu1eg"
      },
      "source": [
        "II. Selesaikan soal cerita berikut menggunakan python:<br>\n",
        "a.  Jose membeli 4 kotak kelereng, tiap kotak berisi 15 buah kelereng. Kelereng itu akan dibagikan kepada 12 orang temannya, setiap teman akan mendapat ... kelereng.<br>\n",
        "b.  Hasil dari 8 pangkat 1/3 adalah ...<br>\n",
        "c.  Eillen memiliki uang sebesar Rp 50.000 untuk dibelanjakan kertas binder, 1 paket kertas binder isi 100 lembar dijual seharga 7500, jika ia ingin membeli berapa kertas binder yang dapat ia beli dengan uang yang ia punya? Berapa kembalian yang diterima?"
      ]
    },
    {
      "cell_type": "code",
      "execution_count": 47,
      "metadata": {
        "id": "HZMGFAk6u1eg",
        "colab": {
          "base_uri": "https://localhost:8080/"
        },
        "outputId": "2c20ad21-b007-4d6b-a0cb-5f7a4f731135"
      },
      "outputs": [
        {
          "output_type": "stream",
          "name": "stdout",
          "text": [
            "A.\n",
            "Setiap teman akan mendapat 5 kelereng.\n",
            "Hasil dari 8 pangkat 1/3 adalah 2.0\n",
            "Eillen dapat membeli 6 paket kertas binder.\n",
            "Kembalian yang diterima adalah Rp 5000\n"
          ]
        }
      ],
      "source": [
        "# Jumlah kotak dan kelereng per kotak\n",
        "print(\"A.\")\n",
        "kotak = 4\n",
        "kelereng_per_kotak = 15\n",
        "\n",
        "# Total kelereng\n",
        "total_kelereng = kotak * kelereng_per_kotak\n",
        "\n",
        "# Jumlah teman\n",
        "teman = 12\n",
        "\n",
        "# Kelereng per teman\n",
        "kelereng_per_teman = total_kelereng // teman\n",
        "print(\"Setiap teman akan mendapat\", kelereng_per_teman, \"kelereng.\")\n",
        "\n",
        "\n",
        "\n",
        "\n",
        "\n",
        "# Menghitung pangkat\n",
        "hasil_pangkat = 8 ** (1/3)\n",
        "print(\"Hasil dari 8 pangkat 1/3 adalah\", hasil_pangkat)\n",
        "\n",
        "\n",
        "\n",
        "\n",
        "\n",
        "# Uang yang dimiliki Eillen dan harga kertas binder\n",
        "uang = 50000\n",
        "harga_kertas_binder = 7500\n",
        "\n",
        "# Menghitung jumlah kertas binder yang dapat dibeli\n",
        "jumlah_kertas_binder = uang // harga_kertas_binder\n",
        "\n",
        "# Menghitung total pengeluaran dan kembalian\n",
        "total_pengeluaran = jumlah_kertas_binder * harga_kertas_binder\n",
        "kembalian = uang - total_pengeluaran\n",
        "\n",
        "print(\"Eillen dapat membeli\", jumlah_kertas_binder, \"paket kertas binder.\")\n",
        "print(\"Kembalian yang diterima adalah Rp\", kembalian)\n",
        "\n"
      ]
    },
    {
      "cell_type": "markdown",
      "metadata": {
        "id": "ogSVphwKu1eh"
      },
      "source": [
        "III. Tunjukan cara untuk mengonversi tipe-tipe data berikut:\n",
        "\n",
        "1. \"1000\" -> 1000 (string ke int)\n",
        "2. 5.25 -> 5 (float ke int)\n",
        "3. 5 -> 5.0 (int ke float)\n",
        "4. 1000 -> \"1000\" (int ke string)\n",
        "\n",
        "Expected output:\n",
        "\n",
        "\n",
        "![image.png](data:image/png;base64,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)"
      ]
    },
    {
      "cell_type": "code",
      "execution_count": 4,
      "metadata": {
        "colab": {
          "base_uri": "https://localhost:8080/"
        },
        "id": "1380euOQu1ei",
        "outputId": "655f0fe6-64f8-4ea0-941d-42e6d9fe9242"
      },
      "outputs": [
        {
          "output_type": "stream",
          "name": "stdout",
          "text": [
            "1000 <class 'int'>\n",
            "5 <class 'int'>\n",
            "5.0 <class 'float'>\n",
            "1000 <class 'str'>\n"
          ]
        }
      ],
      "source": [
        "# Konversi string ke int\n",
        "string_to_int = int(\"1000\")\n",
        "print(string_to_int, type(string_to_int))\n",
        "\n",
        "# Konversi float ke int\n",
        "float_to_int = int(5.25)\n",
        "print(float_to_int, type(float_to_int))\n",
        "\n",
        "# Konversi int ke float\n",
        "int_to_float = float(5)\n",
        "print(int_to_float, type(int_to_float))\n",
        "\n",
        "# Konversi int ke string\n",
        "int_to_string = str(1000)\n",
        "print(int_to_string, type(int_to_string))\n"
      ]
    },
    {
      "cell_type": "markdown",
      "metadata": {
        "id": "DhXG-jySu1ej"
      },
      "source": [
        "IV. String\n",
        "\n",
        "\"If you want to know what a man's like, take a good look at how he treats his inferiors, not his equals.\"\n",
        "\n",
        "1. Tampilkan indeks ke 20 sampai 30 dari string di atas (indeks ke 30 ikut)\n",
        "2. Bagaimana cara memisah string berdasarkan spasi (simpan dalam list)\n",
        "3. Balik string di atas dengan menggunakan satu baris kode (menggunakan index)\n"
      ]
    },
    {
      "cell_type": "code",
      "execution_count": 6,
      "metadata": {
        "colab": {
          "base_uri": "https://localhost:8080/"
        },
        "id": "kUE0OZhIu1ek",
        "outputId": "627fa9ca-7790-4175-ac3d-0040df3a895c"
      },
      "outputs": [
        {
          "output_type": "stream",
          "name": "stdout",
          "text": [
            "what a man'\n",
            "['If', 'you', 'want', 'to', 'know', 'what', 'a', \"man's\", 'like,', 'take', 'a', 'good', 'look', 'at', 'how', 'he', 'treats', 'his', 'inferiors,', 'not', 'his', 'equals.']\n",
            ".slauqe sih ton ,sroirefni sih staert eh woh ta kool doog a ekat ,ekil s'nam a tahw wonk ot tnaw uoy fI\n"
          ]
        }
      ],
      "source": [
        "quote = \"If you want to know what a man's like, take a good look at how he treats his inferiors, not his equals.\"\n",
        "substring = quote[20:31]  # Indeks 30 ikut\n",
        "print(substring)\n",
        "\n",
        "\n",
        "\n",
        "\n",
        "words_list = quote.split()\n",
        "print(words_list)\n",
        "\n",
        "\n",
        "\n",
        "\n",
        "\n",
        "reversed_quote = quote[::-1]\n",
        "print(reversed_quote)\n",
        "\n",
        "\n",
        "\n",
        "\n",
        "\n"
      ]
    },
    {
      "cell_type": "markdown",
      "metadata": {
        "id": "PFAMzNc6u1el"
      },
      "source": [
        "<h2> Python Data Strcutures"
      ]
    },
    {
      "cell_type": "markdown",
      "metadata": {
        "id": "m9AKxWKzu1el"
      },
      "source": [
        "I. Tuple\n",
        "\n",
        "\n",
        "1.   Buatlah sebuah tuple yang berisikan nama prodi di UC, simpan dalam variabel \"Prodi\".\n",
        "2.   Cetaklah panjang tuple yang dibuat.\n",
        "3.   Gunakan .index() untuk mengetahui posisi/index prodi ISB"
      ]
    },
    {
      "cell_type": "code",
      "execution_count": 7,
      "metadata": {
        "id": "sA1w4YBcu1em",
        "colab": {
          "base_uri": "https://localhost:8080/"
        },
        "outputId": "874e4c0b-3806-44fc-a9d8-0dea5ce5365d"
      },
      "outputs": [
        {
          "output_type": "stream",
          "name": "stdout",
          "text": [
            "Panjang tuple Prodi: 5\n",
            "Index prodi ISB: 3\n"
          ]
        }
      ],
      "source": [
        "# Membuat tuple dengan nama prodi di UC\n",
        "Prodi = (\"Ilmu Komputer\", \"Sistem Informasi\", \"Teknik Informatika\", \"Sistem Bisnis\", \"Desain Komunikasi Visual\")\n",
        "\n",
        "# Mencetak panjang tuple\n",
        "print(\"Panjang tuple Prodi:\", len(Prodi))\n",
        "\n",
        "# Mencari posisi/index prodi ISB\n",
        "index_isb = Prodi.index(\"Sistem Bisnis\")\n",
        "print(\"Index prodi ISB:\", index_isb)\n"
      ]
    },
    {
      "cell_type": "markdown",
      "metadata": {
        "id": "SiOS0ttQu1em"
      },
      "source": [
        "II. List\n",
        "\n",
        "\n",
        "1.   Buatlah sebuah list berisi 3 nama makanan kesukaanmu. Simpan dalam variabel \"favorit\".\n",
        "2.   Cetak nama setiap makanan dengan mengakses setiap elemen dalam list satu persatu.\n",
        "3. Kamu sedang berada di sebuah restoran dan hendak memesan salah satu menu yang ada dalam daftar favoritmu. Cetak setiap makanan dengan contoh: \"Aku ingin pesan {nama makanan}\"\n",
        "4.   Ternyata, salah satu menu tidak tersedia, jadi kamu perlu memesan makanan lain. Ganti makanan yang kosong dengan nama makanan baru (makanan yang mana bebas)"
      ]
    },
    {
      "cell_type": "code",
      "execution_count": 8,
      "metadata": {
        "id": "9fuI3hJ7u1en",
        "colab": {
          "base_uri": "https://localhost:8080/"
        },
        "outputId": "f66391a3-b8bd-4c99-c6e0-34cd47667aaf"
      },
      "outputs": [
        {
          "output_type": "stream",
          "name": "stdout",
          "text": [
            "Pizza\n",
            "Sushi\n",
            "Bakso\n",
            "Aku ingin pesan Pizza\n",
            "Aku ingin pesan Sushi\n",
            "Aku ingin pesan Bakso\n",
            "\n",
            "Setelah penggantian, daftar makanan favorit:\n",
            "Pizza\n",
            "Nasi Goreng\n",
            "Bakso\n"
          ]
        }
      ],
      "source": [
        "# Membuat list berisi 3 nama makanan kesukaan\n",
        "favorit = [\"Pizza\", \"Sushi\", \"Bakso\"]\n",
        "\n",
        "# Mencetak nama setiap makanan\n",
        "for makanan in favorit:\n",
        "    print(makanan)\n",
        "\n",
        "# Mencetak pesan untuk memesan setiap makanan\n",
        "for makanan in favorit:\n",
        "    print(f\"Aku ingin pesan {makanan}\")\n",
        "\n",
        "# Mengganti salah satu makanan yang tidak tersedia\n",
        "# Misalnya, kita anggap Sushi tidak tersedia, kita ganti dengan \"Nasi Goreng\"\n",
        "favorit[1] = \"Nasi Goreng\"\n",
        "\n",
        "# Mencetak daftar makanan setelah penggantian\n",
        "print(\"\\nSetelah penggantian, daftar makanan favorit:\")\n",
        "for makanan in favorit:\n",
        "    print(makanan)\n"
      ]
    },
    {
      "cell_type": "markdown",
      "metadata": {
        "id": "YWl87pecu1en"
      },
      "source": [
        "III. Set\n",
        "\n",
        "1. Buatlah 4 buah set sebagai berikut\n",
        "\n",
        "\n",
        "    set1 = {1, 2, 3, 4}\n",
        "    set2 = {2, 4, 6, 8}\n",
        "    set3 = {5, 7}\n",
        "    set4 = {2, 3}\n",
        "2. Gabungkan set1 dan set2 dengan menghilangkan duplicates\n",
        "3. Buktikan set1 dan set3 tidak mempunyai intersection (output : Boolean)\n",
        "4. Buktikan set4 adalah bagian dari set1 (output : Boolean)"
      ]
    },
    {
      "cell_type": "code",
      "execution_count": 9,
      "metadata": {
        "colab": {
          "base_uri": "https://localhost:8080/"
        },
        "id": "Qgx8YGSpu1en",
        "outputId": "5e751ef6-6075-40da-f70b-292985521566"
      },
      "outputs": [
        {
          "output_type": "stream",
          "name": "stdout",
          "text": [
            "Gabungan set1 dan set2: {1, 2, 3, 4, 6, 8}\n",
            "Set1 dan Set3 tidak mempunyai intersection: True\n",
            "Set4 adalah bagian dari set1: True\n"
          ]
        }
      ],
      "source": [
        "# Membuat set\n",
        "set1 = {1, 2, 3, 4}\n",
        "set2 = {2, 4, 6, 8}\n",
        "set3 = {5, 7}\n",
        "set4 = {2, 3}\n",
        "\n",
        "# Menggabungkan set1 dan set2 dengan menghilangkan duplicates\n",
        "gabungan = set1.union(set2)\n",
        "print(\"Gabungan set1 dan set2:\", gabungan)\n",
        "\n",
        "# Membuktikan set1 dan set3 tidak mempunyai intersection\n",
        "intersection_set1_set3 = set1.intersection(set3)\n",
        "print(\"Set1 dan Set3 tidak mempunyai intersection:\", len(intersection_set1_set3) == 0)\n",
        "\n",
        "# Membuktikan set4 adalah bagian dari set1\n",
        "is_subset = set4.issubset(set1)\n",
        "print(\"Set4 adalah bagian dari set1:\", is_subset)\n"
      ]
    },
    {
      "cell_type": "markdown",
      "metadata": {
        "id": "uhpPy3xWu1en"
      },
      "source": [
        "<h2> Python Programming Fundamentals"
      ]
    },
    {
      "cell_type": "markdown",
      "metadata": {
        "id": "OEgpX5aYu1eo"
      },
      "source": [
        "I. Buatlah sebuah program sederhana yang meminta inputan dari user berupa jumlah penggunaan listrik dan menghasilkan output berupa tarif yang harus dibayar dengan syarat sebagai berikut:\n",
        "\n",
        "PLN menerapkan pembayaran listrik perumahan dengan perhitungan sebagai berikut:\n",
        "* untuk golongan 1 (penggunaan <1000 kWh) tarif : Rp1000/kWh\n",
        "* untuk golongan 2 (penggunaan >= 1000 kWh) tarif : Rp2000/kWh\n",
        "\n",
        "Dengan syarat perhitungan:\n",
        "\n",
        "Minimum pembayaran adalah 100 kWh sedangkan untuk pemakaian 1000 kWh dan seterusnya tarifnya ditambah 10% dari total pembayaran.\n",
        "\n",
        "(Jika total penggunaan <100 kWh, maka akan dikenakan tarif 100 kWh)"
      ]
    },
    {
      "cell_type": "code",
      "execution_count": 10,
      "metadata": {
        "colab": {
          "base_uri": "https://localhost:8080/"
        },
        "id": "Q6vIyfIdu1eo",
        "outputId": "d0e15168-50ac-4ec2-f4fc-2c40c96b0165"
      },
      "outputs": [
        {
          "output_type": "stream",
          "name": "stdout",
          "text": [
            "Masukkan jumlah penggunaan listrik (dalam kWh): 30\n",
            "Total penggunaan listrik: 100 kWh\n",
            "Total tarif yang harus dibayar: Rp100000.00\n"
          ]
        }
      ],
      "source": [
        "# Meminta input dari user\n",
        "penggunaan = float(input(\"Masukkan jumlah penggunaan listrik (dalam kWh): \"))\n",
        "\n",
        "# Menentukan tarif dan minimum penggunaan\n",
        "if penggunaan < 100:\n",
        "    penggunaan = 100  # Minimum pembayaran adalah 100 kWh\n",
        "\n",
        "# Menghitung tarif\n",
        "if penggunaan < 1000:\n",
        "    tarif = 1000  # Tarif untuk golongan 1\n",
        "else:\n",
        "    tarif = 2000  # Tarif untuk golongan 2\n",
        "\n",
        "# Menghitung total pembayaran\n",
        "total_pembayaran = penggunaan * tarif\n",
        "\n",
        "# Jika penggunaan >= 1000 kWh, tambah 10% dari total pembayaran\n",
        "if penggunaan >= 1000:\n",
        "    total_pembayaran *= 1.1\n",
        "\n",
        "# Menampilkan hasil\n",
        "print(f\"Total penggunaan listrik: {penggunaan} kWh\")\n",
        "print(f\"Total tarif yang harus dibayar: Rp{total_pembayaran:.2f}\")\n"
      ]
    },
    {
      "cell_type": "markdown",
      "metadata": {
        "id": "Bqp7xI2Nu1eo"
      },
      "source": [
        "II. Untuk Abdimas Oweek UC digunakan angkot dengan kapasitas 10 orang per angkot. Apabila terjadi kelebihan penumpang (walau hanya 1 orang), angkot yang digunakan ditambah 1. Tulislah program untuk menghitung jumlah angkot yang diperlukan bila jumlah pesertanya menggunakan input().\n",
        "\n",
        "Catatan, pastikan jika angka yang dimasukkan negatif, muncul peringatan \"Jumlah orang tidak bisa negatif!\""
      ]
    },
    {
      "cell_type": "code",
      "execution_count": 11,
      "metadata": {
        "colab": {
          "base_uri": "https://localhost:8080/"
        },
        "id": "C8thFHRbu1ep",
        "outputId": "3fc0206f-ed57-472b-bbb7-e18ee33d2e1c"
      },
      "outputs": [
        {
          "output_type": "stream",
          "name": "stdout",
          "text": [
            "Masukkan jumlah peserta: 30\n",
            "Jumlah angkot yang diperlukan: 3\n"
          ]
        }
      ],
      "source": [
        "# Meminta input dari user\n",
        "jumlah_peserta = int(input(\"Masukkan jumlah peserta: \"))\n",
        "\n",
        "# Memeriksa apakah jumlah peserta negatif\n",
        "if jumlah_peserta < 0:\n",
        "    print(\"Jumlah orang tidak bisa negatif!\")\n",
        "else:\n",
        "    # Menghitung jumlah angkot yang diperlukan\n",
        "    kapasitas_angkot = 10\n",
        "    jumlah_angkot = (jumlah_peserta // kapasitas_angkot) + (1 if jumlah_peserta % kapasitas_angkot != 0 else 0)\n",
        "\n",
        "    # Menampilkan hasil\n",
        "    print(f\"Jumlah angkot yang diperlukan: {jumlah_angkot}\")\n"
      ]
    },
    {
      "cell_type": "markdown",
      "metadata": {
        "id": "zmpc0H2cu1ep"
      },
      "source": [
        "<h2> Numpy"
      ]
    },
    {
      "cell_type": "markdown",
      "metadata": {
        "id": "NH_6KTdZu1ep"
      },
      "source": [
        "1. Buatlah 1D numpy array berisi nama nama hari dalam satu minggu\n",
        "2. Gunakan sort untuk mengurutkan array sesuai abjad\n",
        "3. Gunakan rand untuk mengambil 1 hari dari array, cetakhlah dalam format: \"Selamat hari \\<nama hari\\> adalah hari baikmu bulan ini!\"\n",
        "4. Buatlah matriks 3x4 menggunakan numpy array berisi angka 1-6, lalu cetak shape dan dimensi array\n",
        "5. Cetaklah elemen kolom ketiga dari matrix\n",
        "\n",
        "    [[1 ,2, 3, 4],\n",
        "\n",
        "    [5, 6, 7, 8],\n",
        "\n",
        "    [9, 10, 11, 12]]\n",
        "6. Gunakan reshape untuk mengubah matrix di atas menjadi matriks berukuran (2, 6)"
      ]
    },
    {
      "cell_type": "code",
      "execution_count": 12,
      "metadata": {
        "colab": {
          "base_uri": "https://localhost:8080/"
        },
        "id": "7u2L4rYWu1ep",
        "outputId": "14e51c17-21a8-4af9-9a7c-796d6f4c73a1"
      },
      "outputs": [
        {
          "output_type": "execute_result",
          "data": {
            "text/plain": [
              "['Senin', 'Selasa', 'Rabu', 'Kamis', 'Jumat', 'Sabtu', 'Minggu']"
            ]
          },
          "metadata": {},
          "execution_count": 12
        }
      ],
      "source": [
        "# 1\n",
        "['Senin', 'Selasa', 'Rabu', 'Kamis', 'Jumat', 'Sabtu', 'Minggu']\n"
      ]
    },
    {
      "cell_type": "code",
      "execution_count": 14,
      "metadata": {
        "colab": {
          "base_uri": "https://localhost:8080/"
        },
        "id": "deanH7rbNQDz",
        "outputId": "8b3f09ac-c556-4c84-f479-e8b89320c006"
      },
      "outputs": [
        {
          "output_type": "execute_result",
          "data": {
            "text/plain": [
              "['Jumat', 'Kamis', 'Minggu', 'Rabu', 'Sabtu', 'Selasa', 'Senin']"
            ]
          },
          "metadata": {},
          "execution_count": 14
        }
      ],
      "source": [
        "# 2\n",
        "['Jumat', 'Kamis', 'Minggu', 'Rabu', 'Sabtu', 'Selasa', 'Senin']\n",
        "\n"
      ]
    },
    {
      "cell_type": "code",
      "execution_count": 18,
      "metadata": {
        "colab": {
          "base_uri": "https://localhost:8080/"
        },
        "id": "095nERxqIv_n",
        "outputId": "dd8e2d73-d0bf-4520-ec1d-feb88637f97d"
      },
      "outputs": [
        {
          "output_type": "stream",
          "name": "stdout",
          "text": [
            "Selamat hari Minggu, adalah hari baikmu bulan ini!\n"
          ]
        }
      ],
      "source": [
        "import random\n",
        "# 3\n",
        "import numpy as np\n",
        "\n",
        "# Membuat array nama-nama hari\n",
        "days_of_week = np.array([\"Senin\", \"Selasa\", \"Rabu\", \"Kamis\", \"Jumat\", \"Sabtu\", \"Minggu\"])\n",
        "\n",
        "# Menggunakan np.random.rand untuk menghasilkan nilai acak antara 0 dan 1\n",
        "random_index = int(np.random.rand() * len(days_of_week))\n",
        "\n",
        "# Mengambil hari acak\n",
        "random_day = days_of_week[random_index]\n",
        "\n",
        "# Format output\n",
        "message = f\"Selamat hari {random_day}, adalah hari baikmu bulan ini!\"\n",
        "print(message)\n",
        "\n",
        "\n"
      ]
    },
    {
      "cell_type": "code",
      "execution_count": 19,
      "metadata": {
        "colab": {
          "base_uri": "https://localhost:8080/"
        },
        "id": "XB0SW-W1OQ7e",
        "outputId": "75f26f47-6b3e-431c-c2bf-76afca573ad9"
      },
      "outputs": [
        {
          "output_type": "execute_result",
          "data": {
            "text/plain": [
              "(array([[1, 2, 3, 4],\n",
              "        [1, 2, 3, 4]]),\n",
              " (2, 4),\n",
              " 2)"
            ]
          },
          "metadata": {},
          "execution_count": 19
        }
      ],
      "source": [
        "# 4\n",
        "import numpy as np\n",
        "\n",
        "# Membuat matriks 3x4 berisi angka 1-6 yang diulang\n",
        "matrix = np.tile(np.array([1, 2, 3, 4, 5, 6]), (2, 2))[:3, :4]\n",
        "\n",
        "# Mendapatkan shape dan dimensi array\n",
        "shape_of_matrix = matrix.shape\n",
        "dim_of_matrix = matrix.ndim\n",
        "\n",
        "matrix, shape_of_matrix, dim_of_matrix\n",
        "\n"
      ]
    },
    {
      "cell_type": "code",
      "execution_count": 20,
      "metadata": {
        "colab": {
          "base_uri": "https://localhost:8080/"
        },
        "id": "vrwOkZl2Ped9",
        "outputId": "92ff4624-75c3-46ab-a433-5014b10cddcc"
      },
      "outputs": [
        {
          "output_type": "stream",
          "name": "stdout",
          "text": [
            "Elemen kolom ketiga: [ 3  7 11]\n"
          ]
        }
      ],
      "source": [
        "# 5\n",
        "\n",
        "import numpy as np\n",
        "\n",
        "# Membuat matriks\n",
        "matrix = np.array([[1, 2, 3, 4],\n",
        "                   [5, 6, 7, 8],\n",
        "                   [9, 10, 11, 12]])\n",
        "\n",
        "# Mengambil elemen dari kolom ketiga\n",
        "column_third = matrix[:, 2]\n",
        "\n",
        "# Cetak hasil\n",
        "print(\"Elemen kolom ketiga:\", column_third)\n"
      ]
    },
    {
      "cell_type": "code",
      "execution_count": 21,
      "metadata": {
        "colab": {
          "base_uri": "https://localhost:8080/"
        },
        "id": "2GbdDNBWSdrd",
        "outputId": "7770db64-6e3e-439f-a30b-cd3e41052eb3"
      },
      "outputs": [
        {
          "output_type": "stream",
          "name": "stdout",
          "text": [
            "Matriks setelah reshape:\n",
            " [[ 1  2  3  4  5  6]\n",
            " [ 7  8  9 10 11 12]]\n"
          ]
        }
      ],
      "source": [
        "# 6\n",
        "import numpy as np\n",
        "\n",
        "# Membuat matriks\n",
        "matrix = np.array([[1, 2, 3, 4],\n",
        "                   [5, 6, 7, 8],\n",
        "                   [9, 10, 11, 12]])\n",
        "\n",
        "# Mengubah bentuk matriks menjadi (2, 6)\n",
        "reshaped_matrix = matrix.reshape(2, 6)\n",
        "\n",
        "# Cetak hasil\n",
        "print(\"Matriks setelah reshape:\\n\", reshaped_matrix)\n"
      ]
    },
    {
      "cell_type": "markdown",
      "metadata": {
        "id": "IJ-xiFGCu1ep"
      },
      "source": [
        "<h2> Pandas"
      ]
    },
    {
      "cell_type": "markdown",
      "metadata": {
        "id": "W1GPuTsQu1eq"
      },
      "source": [
        "1. Buatlah Pandas Series dari list [\"Information\", \"Systems\", \"for\", \"Business\"]\n",
        "2. Buatlah Pandas Dataframe dari dictionary\n",
        "{ \"brand\": \"Ford\", \"model\": \"Mustang\", \"year\": 1964 }"
      ]
    },
    {
      "cell_type": "code",
      "execution_count": 23,
      "metadata": {
        "colab": {
          "base_uri": "https://localhost:8080/"
        },
        "id": "btISSDM7u1eq",
        "outputId": "8c373548-cbcd-4974-ea35-69f57724b0ed"
      },
      "outputs": [
        {
          "output_type": "stream",
          "name": "stdout",
          "text": [
            "0    Information\n",
            "1        Systems\n",
            "2            for\n",
            "3       Business\n",
            "dtype: object\n",
            "  brand    model  year\n",
            "0  Ford  Mustang  1964\n"
          ]
        }
      ],
      "source": [
        "import pandas as pd\n",
        "\n",
        "# Membuat Series\n",
        "data_list = [\"Information\", \"Systems\", \"for\", \"Business\"]\n",
        "series = pd.Series(data_list)\n",
        "\n",
        "print(series)\n",
        "\n",
        "\n",
        "\n",
        "\n",
        "# Membuat DataFrame\n",
        "data_dict = { \"brand\": \"Ford\", \"model\": \"Mustang\", \"year\": 1964 }\n",
        "dataframe = pd.DataFrame([data_dict])  # Membungkus dictionary dalam list\n",
        "\n",
        "print(dataframe)\n",
        "\n"
      ]
    },
    {
      "cell_type": "markdown",
      "metadata": {
        "id": "K6iLqp69u1eq"
      },
      "source": [
        "3. Import dataset berikut kedalam dataframe.    \n",
        "dataset : https://raw.githubusercontent.com/michellechandraa/TutorDataMining/main/50_Startups.csv\n",
        "4. Tunjukan kota apa saja yang ada dalam dataset tersebut\n",
        "5. Buatlah dataset baru yang menyimpan 10 row random dari dataset. Kemudian tunjukanlah 5 row pertamanya.\n",
        "6. Gunakan df.info() untuk melihat informasi singkat dari dataframe\n",
        "7. Tampilkan data 'R&D Spend' dan 'Marketing Spend' dari data yang berasal dari kota 'California'\n",
        "8. Temukan apa ada missing value dari setiap kolom\n",
        "9. Drop data yang memiliki profit di bawah 50000\n",
        "10. Urutkan Dataframe berdasarkan biaya marketing mulai dari terbesar ke terkecil"
      ]
    },
    {
      "cell_type": "code",
      "execution_count": 30,
      "metadata": {
        "id": "Zz-a6B-Au1er",
        "colab": {
          "base_uri": "https://localhost:8080/",
          "height": 206
        },
        "outputId": "035a9dfe-dd24-4f2f-f6c6-5e3ce4e1715e"
      },
      "outputs": [
        {
          "output_type": "execute_result",
          "data": {
            "text/plain": [
              "   R&D Spend  Administration  Marketing Spend       State     Profit\n",
              "0  165349.20       136897.80        471784.10    New York  192261.83\n",
              "1  162597.70       151377.59        443898.53  California  191792.06\n",
              "2  153441.51       101145.55        407934.54     Florida  191050.39\n",
              "3  144372.41       118671.85        383199.62    New York  182901.99\n",
              "4  142107.34        91391.77        366168.42     Florida  166187.94"
            ],
            "text/html": [
              "\n",
              "  <div id=\"df-9b196fbb-c5bc-47e6-a40a-65e89a6cf655\" class=\"colab-df-container\">\n",
              "    <div>\n",
              "<style scoped>\n",
              "    .dataframe tbody tr th:only-of-type {\n",
              "        vertical-align: middle;\n",
              "    }\n",
              "\n",
              "    .dataframe tbody tr th {\n",
              "        vertical-align: top;\n",
              "    }\n",
              "\n",
              "    .dataframe thead th {\n",
              "        text-align: right;\n",
              "    }\n",
              "</style>\n",
              "<table border=\"1\" class=\"dataframe\">\n",
              "  <thead>\n",
              "    <tr style=\"text-align: right;\">\n",
              "      <th></th>\n",
              "      <th>R&amp;D Spend</th>\n",
              "      <th>Administration</th>\n",
              "      <th>Marketing Spend</th>\n",
              "      <th>State</th>\n",
              "      <th>Profit</th>\n",
              "    </tr>\n",
              "  </thead>\n",
              "  <tbody>\n",
              "    <tr>\n",
              "      <th>0</th>\n",
              "      <td>165349.20</td>\n",
              "      <td>136897.80</td>\n",
              "      <td>471784.10</td>\n",
              "      <td>New York</td>\n",
              "      <td>192261.83</td>\n",
              "    </tr>\n",
              "    <tr>\n",
              "      <th>1</th>\n",
              "      <td>162597.70</td>\n",
              "      <td>151377.59</td>\n",
              "      <td>443898.53</td>\n",
              "      <td>California</td>\n",
              "      <td>191792.06</td>\n",
              "    </tr>\n",
              "    <tr>\n",
              "      <th>2</th>\n",
              "      <td>153441.51</td>\n",
              "      <td>101145.55</td>\n",
              "      <td>407934.54</td>\n",
              "      <td>Florida</td>\n",
              "      <td>191050.39</td>\n",
              "    </tr>\n",
              "    <tr>\n",
              "      <th>3</th>\n",
              "      <td>144372.41</td>\n",
              "      <td>118671.85</td>\n",
              "      <td>383199.62</td>\n",
              "      <td>New York</td>\n",
              "      <td>182901.99</td>\n",
              "    </tr>\n",
              "    <tr>\n",
              "      <th>4</th>\n",
              "      <td>142107.34</td>\n",
              "      <td>91391.77</td>\n",
              "      <td>366168.42</td>\n",
              "      <td>Florida</td>\n",
              "      <td>166187.94</td>\n",
              "    </tr>\n",
              "  </tbody>\n",
              "</table>\n",
              "</div>\n",
              "    <div class=\"colab-df-buttons\">\n",
              "\n",
              "  <div class=\"colab-df-container\">\n",
              "    <button class=\"colab-df-convert\" onclick=\"convertToInteractive('df-9b196fbb-c5bc-47e6-a40a-65e89a6cf655')\"\n",
              "            title=\"Convert this dataframe to an interactive table.\"\n",
              "            style=\"display:none;\">\n",
              "\n",
              "  <svg xmlns=\"http://www.w3.org/2000/svg\" height=\"24px\" viewBox=\"0 -960 960 960\">\n",
              "    <path d=\"M120-120v-720h720v720H120Zm60-500h600v-160H180v160Zm220 220h160v-160H400v160Zm0 220h160v-160H400v160ZM180-400h160v-160H180v160Zm440 0h160v-160H620v160ZM180-180h160v-160H180v160Zm440 0h160v-160H620v160Z\"/>\n",
              "  </svg>\n",
              "    </button>\n",
              "\n",
              "  <style>\n",
              "    .colab-df-container {\n",
              "      display:flex;\n",
              "      gap: 12px;\n",
              "    }\n",
              "\n",
              "    .colab-df-convert {\n",
              "      background-color: #E8F0FE;\n",
              "      border: none;\n",
              "      border-radius: 50%;\n",
              "      cursor: pointer;\n",
              "      display: none;\n",
              "      fill: #1967D2;\n",
              "      height: 32px;\n",
              "      padding: 0 0 0 0;\n",
              "      width: 32px;\n",
              "    }\n",
              "\n",
              "    .colab-df-convert:hover {\n",
              "      background-color: #E2EBFA;\n",
              "      box-shadow: 0px 1px 2px rgba(60, 64, 67, 0.3), 0px 1px 3px 1px rgba(60, 64, 67, 0.15);\n",
              "      fill: #174EA6;\n",
              "    }\n",
              "\n",
              "    .colab-df-buttons div {\n",
              "      margin-bottom: 4px;\n",
              "    }\n",
              "\n",
              "    [theme=dark] .colab-df-convert {\n",
              "      background-color: #3B4455;\n",
              "      fill: #D2E3FC;\n",
              "    }\n",
              "\n",
              "    [theme=dark] .colab-df-convert:hover {\n",
              "      background-color: #434B5C;\n",
              "      box-shadow: 0px 1px 3px 1px rgba(0, 0, 0, 0.15);\n",
              "      filter: drop-shadow(0px 1px 2px rgba(0, 0, 0, 0.3));\n",
              "      fill: #FFFFFF;\n",
              "    }\n",
              "  </style>\n",
              "\n",
              "    <script>\n",
              "      const buttonEl =\n",
              "        document.querySelector('#df-9b196fbb-c5bc-47e6-a40a-65e89a6cf655 button.colab-df-convert');\n",
              "      buttonEl.style.display =\n",
              "        google.colab.kernel.accessAllowed ? 'block' : 'none';\n",
              "\n",
              "      async function convertToInteractive(key) {\n",
              "        const element = document.querySelector('#df-9b196fbb-c5bc-47e6-a40a-65e89a6cf655');\n",
              "        const dataTable =\n",
              "          await google.colab.kernel.invokeFunction('convertToInteractive',\n",
              "                                                    [key], {});\n",
              "        if (!dataTable) return;\n",
              "\n",
              "        const docLinkHtml = 'Like what you see? Visit the ' +\n",
              "          '<a target=\"_blank\" href=https://colab.research.google.com/notebooks/data_table.ipynb>data table notebook</a>'\n",
              "          + ' to learn more about interactive tables.';\n",
              "        element.innerHTML = '';\n",
              "        dataTable['output_type'] = 'display_data';\n",
              "        await google.colab.output.renderOutput(dataTable, element);\n",
              "        const docLink = document.createElement('div');\n",
              "        docLink.innerHTML = docLinkHtml;\n",
              "        element.appendChild(docLink);\n",
              "      }\n",
              "    </script>\n",
              "  </div>\n",
              "\n",
              "\n",
              "<div id=\"df-543df88a-256d-4dbd-9832-7c89ddf62d35\">\n",
              "  <button class=\"colab-df-quickchart\" onclick=\"quickchart('df-543df88a-256d-4dbd-9832-7c89ddf62d35')\"\n",
              "            title=\"Suggest charts\"\n",
              "            style=\"display:none;\">\n",
              "\n",
              "<svg xmlns=\"http://www.w3.org/2000/svg\" height=\"24px\"viewBox=\"0 0 24 24\"\n",
              "     width=\"24px\">\n",
              "    <g>\n",
              "        <path d=\"M19 3H5c-1.1 0-2 .9-2 2v14c0 1.1.9 2 2 2h14c1.1 0 2-.9 2-2V5c0-1.1-.9-2-2-2zM9 17H7v-7h2v7zm4 0h-2V7h2v10zm4 0h-2v-4h2v4z\"/>\n",
              "    </g>\n",
              "</svg>\n",
              "  </button>\n",
              "\n",
              "<style>\n",
              "  .colab-df-quickchart {\n",
              "      --bg-color: #E8F0FE;\n",
              "      --fill-color: #1967D2;\n",
              "      --hover-bg-color: #E2EBFA;\n",
              "      --hover-fill-color: #174EA6;\n",
              "      --disabled-fill-color: #AAA;\n",
              "      --disabled-bg-color: #DDD;\n",
              "  }\n",
              "\n",
              "  [theme=dark] .colab-df-quickchart {\n",
              "      --bg-color: #3B4455;\n",
              "      --fill-color: #D2E3FC;\n",
              "      --hover-bg-color: #434B5C;\n",
              "      --hover-fill-color: #FFFFFF;\n",
              "      --disabled-bg-color: #3B4455;\n",
              "      --disabled-fill-color: #666;\n",
              "  }\n",
              "\n",
              "  .colab-df-quickchart {\n",
              "    background-color: var(--bg-color);\n",
              "    border: none;\n",
              "    border-radius: 50%;\n",
              "    cursor: pointer;\n",
              "    display: none;\n",
              "    fill: var(--fill-color);\n",
              "    height: 32px;\n",
              "    padding: 0;\n",
              "    width: 32px;\n",
              "  }\n",
              "\n",
              "  .colab-df-quickchart:hover {\n",
              "    background-color: var(--hover-bg-color);\n",
              "    box-shadow: 0 1px 2px rgba(60, 64, 67, 0.3), 0 1px 3px 1px rgba(60, 64, 67, 0.15);\n",
              "    fill: var(--button-hover-fill-color);\n",
              "  }\n",
              "\n",
              "  .colab-df-quickchart-complete:disabled,\n",
              "  .colab-df-quickchart-complete:disabled:hover {\n",
              "    background-color: var(--disabled-bg-color);\n",
              "    fill: var(--disabled-fill-color);\n",
              "    box-shadow: none;\n",
              "  }\n",
              "\n",
              "  .colab-df-spinner {\n",
              "    border: 2px solid var(--fill-color);\n",
              "    border-color: transparent;\n",
              "    border-bottom-color: var(--fill-color);\n",
              "    animation:\n",
              "      spin 1s steps(1) infinite;\n",
              "  }\n",
              "\n",
              "  @keyframes spin {\n",
              "    0% {\n",
              "      border-color: transparent;\n",
              "      border-bottom-color: var(--fill-color);\n",
              "      border-left-color: var(--fill-color);\n",
              "    }\n",
              "    20% {\n",
              "      border-color: transparent;\n",
              "      border-left-color: var(--fill-color);\n",
              "      border-top-color: var(--fill-color);\n",
              "    }\n",
              "    30% {\n",
              "      border-color: transparent;\n",
              "      border-left-color: var(--fill-color);\n",
              "      border-top-color: var(--fill-color);\n",
              "      border-right-color: var(--fill-color);\n",
              "    }\n",
              "    40% {\n",
              "      border-color: transparent;\n",
              "      border-right-color: var(--fill-color);\n",
              "      border-top-color: var(--fill-color);\n",
              "    }\n",
              "    60% {\n",
              "      border-color: transparent;\n",
              "      border-right-color: var(--fill-color);\n",
              "    }\n",
              "    80% {\n",
              "      border-color: transparent;\n",
              "      border-right-color: var(--fill-color);\n",
              "      border-bottom-color: var(--fill-color);\n",
              "    }\n",
              "    90% {\n",
              "      border-color: transparent;\n",
              "      border-bottom-color: var(--fill-color);\n",
              "    }\n",
              "  }\n",
              "</style>\n",
              "\n",
              "  <script>\n",
              "    async function quickchart(key) {\n",
              "      const quickchartButtonEl =\n",
              "        document.querySelector('#' + key + ' button');\n",
              "      quickchartButtonEl.disabled = true;  // To prevent multiple clicks.\n",
              "      quickchartButtonEl.classList.add('colab-df-spinner');\n",
              "      try {\n",
              "        const charts = await google.colab.kernel.invokeFunction(\n",
              "            'suggestCharts', [key], {});\n",
              "      } catch (error) {\n",
              "        console.error('Error during call to suggestCharts:', error);\n",
              "      }\n",
              "      quickchartButtonEl.classList.remove('colab-df-spinner');\n",
              "      quickchartButtonEl.classList.add('colab-df-quickchart-complete');\n",
              "    }\n",
              "    (() => {\n",
              "      let quickchartButtonEl =\n",
              "        document.querySelector('#df-543df88a-256d-4dbd-9832-7c89ddf62d35 button');\n",
              "      quickchartButtonEl.style.display =\n",
              "        google.colab.kernel.accessAllowed ? 'block' : 'none';\n",
              "    })();\n",
              "  </script>\n",
              "</div>\n",
              "\n",
              "    </div>\n",
              "  </div>\n"
            ],
            "application/vnd.google.colaboratory.intrinsic+json": {
              "type": "dataframe",
              "variable_name": "dataframe",
              "summary": "{\n  \"name\": \"dataframe\",\n  \"rows\": 50,\n  \"fields\": [\n    {\n      \"column\": \"R&D Spend\",\n      \"properties\": {\n        \"dtype\": \"number\",\n        \"std\": 45902.25648230753,\n        \"min\": 0.0,\n        \"max\": 165349.2,\n        \"num_unique_values\": 49,\n        \"samples\": [\n          91992.39,\n          1000.23,\n          0.0\n        ],\n        \"semantic_type\": \"\",\n        \"description\": \"\"\n      }\n    },\n    {\n      \"column\": \"Administration\",\n      \"properties\": {\n        \"dtype\": \"number\",\n        \"std\": 28017.802755488683,\n        \"min\": 51283.14,\n        \"max\": 182645.56,\n        \"num_unique_values\": 50,\n        \"samples\": [\n          135495.07,\n          82982.09,\n          115641.28\n        ],\n        \"semantic_type\": \"\",\n        \"description\": \"\"\n      }\n    },\n    {\n      \"column\": \"Marketing Spend\",\n      \"properties\": {\n        \"dtype\": \"number\",\n        \"std\": 122290.31072584528,\n        \"min\": 0.0,\n        \"max\": 471784.1,\n        \"num_unique_values\": 48,\n        \"samples\": [\n          353183.81,\n          172795.67,\n          134050.07\n        ],\n        \"semantic_type\": \"\",\n        \"description\": \"\"\n      }\n    },\n    {\n      \"column\": \"State\",\n      \"properties\": {\n        \"dtype\": \"category\",\n        \"num_unique_values\": 3,\n        \"samples\": [\n          \"New York\",\n          \"California\",\n          \"Florida\"\n        ],\n        \"semantic_type\": \"\",\n        \"description\": \"\"\n      }\n    },\n    {\n      \"column\": \"Profit\",\n      \"properties\": {\n        \"dtype\": \"number\",\n        \"std\": 40306.18033765055,\n        \"min\": 14681.4,\n        \"max\": 192261.83,\n        \"num_unique_values\": 50,\n        \"samples\": [\n          134307.35,\n          81005.76,\n          99937.59\n        ],\n        \"semantic_type\": \"\",\n        \"description\": \"\"\n      }\n    }\n  ]\n}"
            }
          },
          "metadata": {},
          "execution_count": 30
        }
      ],
      "source": [
        "# 3\n",
        "\n",
        "import pandas as pd\n",
        "\n",
        "# Mengimpor dataset\n",
        "url = \"https://raw.githubusercontent.com/michellechandraa/TutorDataMining/main/50_Startups.csv\"\n",
        "dataframe = pd.read_csv(url)\n",
        "\n",
        "# Menampilkan beberapa baris pertama dari DataFrame\n",
        "dataframe.head()\n",
        "\n",
        "\n",
        "\n"
      ]
    },
    {
      "cell_type": "code",
      "execution_count": 33,
      "metadata": {
        "colab": {
          "base_uri": "https://localhost:8080/"
        },
        "id": "8hsqamWrCimw",
        "outputId": "05646b1e-f73b-40a8-ba59-f230cf1d862b"
      },
      "outputs": [
        {
          "output_type": "stream",
          "name": "stdout",
          "text": [
            "['New York' 'California' 'Florida']\n"
          ]
        }
      ],
      "source": [
        "# 4\n",
        "import pandas as pd\n",
        "\n",
        "# Mengimpor dataset\n",
        "url = \"https://raw.githubusercontent.com/michellechandraa/TutorDataMining/main/50_Startups.csv\"\n",
        "dataframe = pd.read_csv(url)\n",
        "\n",
        "# Menampilkan nilai unik dari kolom 'City'\n",
        "unique_cities = dataframe['State'].unique()\n",
        "print(unique_cities)\n"
      ]
    },
    {
      "cell_type": "markdown",
      "source": [],
      "metadata": {
        "id": "C4dYyX1Xoo1D"
      }
    },
    {
      "cell_type": "code",
      "execution_count": 35,
      "metadata": {
        "id": "xCcT75YOCmX3",
        "colab": {
          "base_uri": "https://localhost:8080/"
        },
        "outputId": "9be0491e-51d1-4be9-ca6a-c690703aa788"
      },
      "outputs": [
        {
          "output_type": "stream",
          "name": "stdout",
          "text": [
            "   R&D Spend  Administration  Marketing Spend       State     Profit\n",
            "0   72107.60       127864.55        353183.81    New York  105008.31\n",
            "1   46014.02        85047.44        205517.64    New York   96479.51\n",
            "2   28754.33       118546.05        172795.67  California   78239.91\n",
            "3   20229.59        65947.93        185265.10    New York   81229.06\n",
            "4  153441.51       101145.55        407934.54     Florida  191050.39\n"
          ]
        }
      ],
      "source": [
        "# 5\n",
        "import pandas as pd\n",
        "\n",
        "# Mengimpor dataset\n",
        "url = \"https://raw.githubusercontent.com/michellechandraa/TutorDataMining/main/50_Startups.csv\"\n",
        "dataframe = pd.read_csv(url)\n",
        "\n",
        "# Mengambil 10 baris acak\n",
        "random_sample = dataframe.sample(n=10, random_state=1)  # random_state untuk reproduktif\n",
        "\n",
        "# Menyimpan dataset baru ke dalam DataFrame\n",
        "new_dataset = random_sample.reset_index(drop=True)\n",
        "\n",
        "# Menampilkan 5 baris pertama dari dataset baru\n",
        "print(new_dataset.head())\n"
      ]
    },
    {
      "cell_type": "code",
      "execution_count": 36,
      "metadata": {
        "colab": {
          "base_uri": "https://localhost:8080/"
        },
        "id": "kgHgGEVoCqGR",
        "outputId": "c8ddda77-f459-4659-e887-6fe70812dd22"
      },
      "outputs": [
        {
          "output_type": "stream",
          "name": "stdout",
          "text": [
            "<class 'pandas.core.frame.DataFrame'>\n",
            "RangeIndex: 50 entries, 0 to 49\n",
            "Data columns (total 5 columns):\n",
            " #   Column           Non-Null Count  Dtype  \n",
            "---  ------           --------------  -----  \n",
            " 0   R&D Spend        50 non-null     float64\n",
            " 1   Administration   50 non-null     float64\n",
            " 2   Marketing Spend  50 non-null     float64\n",
            " 3   State            50 non-null     object \n",
            " 4   Profit           50 non-null     float64\n",
            "dtypes: float64(4), object(1)\n",
            "memory usage: 2.1+ KB\n"
          ]
        }
      ],
      "source": [
        "# 6\n",
        "import pandas as pd\n",
        "\n",
        "# Mengimpor dataset\n",
        "url = \"https://raw.githubusercontent.com/michellechandraa/TutorDataMining/main/50_Startups.csv\"\n",
        "dataframe = pd.read_csv(url)\n",
        "\n",
        "# Menampilkan informasi singkat dari DataFrame\n",
        "dataframe.info()\n"
      ]
    },
    {
      "cell_type": "code",
      "execution_count": 37,
      "metadata": {
        "colab": {
          "base_uri": "https://localhost:8080/"
        },
        "id": "Mc3zul5PA2TD",
        "outputId": "44fa5843-e0c5-4ced-8aff-3c1a03201f12"
      },
      "outputs": [
        {
          "output_type": "stream",
          "name": "stdout",
          "text": [
            "    R&D Spend  Marketing Spend\n",
            "1   162597.70        443898.53\n",
            "6   134615.46        127716.82\n",
            "9   123334.88        304981.62\n",
            "11  100671.96        249744.55\n",
            "13   91992.39        252664.93\n",
            "16   78013.11        264346.06\n",
            "20   76253.86        298664.47\n",
            "25   64664.71        137962.62\n",
            "32   63408.86         46085.25\n",
            "34   46426.07        210797.67\n",
            "37   44069.95        197029.42\n",
            "39   38558.51        174999.30\n",
            "40   28754.33        172795.67\n",
            "42   23640.93        148001.11\n",
            "44   22177.74         28334.72\n",
            "47       0.00             0.00\n",
            "49       0.00         45173.06\n"
          ]
        }
      ],
      "source": [
        "# 7\n",
        "import pandas as pd\n",
        "\n",
        "# Mengimpor dataset\n",
        "url = \"https://raw.githubusercontent.com/michellechandraa/TutorDataMining/main/50_Startups.csv\"\n",
        "dataframe = pd.read_csv(url)\n",
        "\n",
        "# Memfilter data untuk kota 'California'\n",
        "california_data = dataframe[dataframe['State'] == 'California']\n",
        "\n",
        "# Memilih kolom 'R&D Spend' dan 'Marketing Spend'\n",
        "result = california_data[['R&D Spend', 'Marketing Spend']]\n",
        "\n",
        "# Menampilkan hasil\n",
        "print(result)\n"
      ]
    },
    {
      "cell_type": "code",
      "execution_count": 38,
      "metadata": {
        "colab": {
          "base_uri": "https://localhost:8080/"
        },
        "id": "M1SY-gGACRy0",
        "outputId": "5262cb54-57f6-48e7-80a6-d80d684b29ba"
      },
      "outputs": [
        {
          "output_type": "stream",
          "name": "stdout",
          "text": [
            "R&D Spend          0\n",
            "Administration     0\n",
            "Marketing Spend    0\n",
            "State              0\n",
            "Profit             0\n",
            "dtype: int64\n"
          ]
        }
      ],
      "source": [
        "# 8\n",
        "import pandas as pd\n",
        "\n",
        "# Mengimpor dataset\n",
        "url = \"https://raw.githubusercontent.com/michellechandraa/TutorDataMining/main/50_Startups.csv\"\n",
        "dataframe = pd.read_csv(url)\n",
        "\n",
        "# Memeriksa missing values di setiap kolom\n",
        "missing_values = dataframe.isnull().sum()\n",
        "\n",
        "# Menampilkan jumlah missing values per kolom\n",
        "print(missing_values)\n"
      ]
    },
    {
      "cell_type": "code",
      "execution_count": 39,
      "metadata": {
        "id": "XS3SV8--CeLJ",
        "colab": {
          "base_uri": "https://localhost:8080/"
        },
        "outputId": "a915d340-95a2-48d8-b18d-08e8710cee6a"
      },
      "outputs": [
        {
          "output_type": "stream",
          "name": "stdout",
          "text": [
            "    R&D Spend  Administration  Marketing Spend       State     Profit\n",
            "0   165349.20       136897.80        471784.10    New York  192261.83\n",
            "1   162597.70       151377.59        443898.53  California  191792.06\n",
            "2   153441.51       101145.55        407934.54     Florida  191050.39\n",
            "3   144372.41       118671.85        383199.62    New York  182901.99\n",
            "4   142107.34        91391.77        366168.42     Florida  166187.94\n",
            "5   131876.90        99814.71        362861.36    New York  156991.12\n",
            "6   134615.46       147198.87        127716.82  California  156122.51\n",
            "7   130298.13       145530.06        323876.68     Florida  155752.60\n",
            "8   120542.52       148718.95        311613.29    New York  152211.77\n",
            "9   123334.88       108679.17        304981.62  California  149759.96\n",
            "10  101913.08       110594.11        229160.95     Florida  146121.95\n",
            "11  100671.96        91790.61        249744.55  California  144259.40\n",
            "12   93863.75       127320.38        249839.44     Florida  141585.52\n",
            "13   91992.39       135495.07        252664.93  California  134307.35\n",
            "14  119943.24       156547.42        256512.92     Florida  132602.65\n",
            "15  114523.61       122616.84        261776.23    New York  129917.04\n",
            "16   78013.11       121597.55        264346.06  California  126992.93\n",
            "17   94657.16       145077.58        282574.31    New York  125370.37\n",
            "18   91749.16       114175.79        294919.57     Florida  124266.90\n",
            "19   86419.70       153514.11             0.00    New York  122776.86\n",
            "20   76253.86       113867.30        298664.47  California  118474.03\n",
            "21   78389.47       153773.43        299737.29    New York  111313.02\n",
            "22   73994.56       122782.75        303319.26     Florida  110352.25\n",
            "23   67532.53       105751.03        304768.73     Florida  108733.99\n",
            "24   77044.01        99281.34        140574.81    New York  108552.04\n",
            "25   64664.71       139553.16        137962.62  California  107404.34\n",
            "26   75328.87       144135.98        134050.07     Florida  105733.54\n",
            "27   72107.60       127864.55        353183.81    New York  105008.31\n",
            "28   66051.52       182645.56        118148.20     Florida  103282.38\n",
            "29   65605.48       153032.06        107138.38    New York  101004.64\n",
            "30   61994.48       115641.28         91131.24     Florida   99937.59\n",
            "31   61136.38       152701.92         88218.23    New York   97483.56\n",
            "32   63408.86       129219.61         46085.25  California   97427.84\n",
            "33   55493.95       103057.49        214634.81     Florida   96778.92\n",
            "34   46426.07       157693.92        210797.67  California   96712.80\n",
            "35   46014.02        85047.44        205517.64    New York   96479.51\n",
            "36   28663.76       127056.21        201126.82     Florida   90708.19\n",
            "37   44069.95        51283.14        197029.42  California   89949.14\n",
            "38   20229.59        65947.93        185265.10    New York   81229.06\n",
            "39   38558.51        82982.09        174999.30  California   81005.76\n",
            "40   28754.33       118546.05        172795.67  California   78239.91\n",
            "41   27892.92        84710.77        164470.71     Florida   77798.83\n",
            "42   23640.93        96189.63        148001.11  California   71498.49\n",
            "43   15505.73       127382.30         35534.17    New York   69758.98\n",
            "44   22177.74       154806.14         28334.72  California   65200.33\n",
            "45    1000.23       124153.04          1903.93    New York   64926.08\n"
          ]
        }
      ],
      "source": [
        "# 9\n",
        "import pandas as pd\n",
        "\n",
        "# Mengimpor dataset\n",
        "url = \"https://raw.githubusercontent.com/michellechandraa/TutorDataMining/main/50_Startups.csv\"\n",
        "dataframe = pd.read_csv(url)\n",
        "\n",
        "# Menghapus data dengan 'Profit' di bawah 50000\n",
        "filtered_dataframe = dataframe[dataframe['Profit'] >= 50000]\n",
        "\n",
        "# Menampilkan hasil\n",
        "print(filtered_dataframe)\n"
      ]
    },
    {
      "cell_type": "code",
      "execution_count": 40,
      "metadata": {
        "colab": {
          "base_uri": "https://localhost:8080/"
        },
        "id": "mbt-zuboEm3A",
        "outputId": "0a678c7a-0ae8-44f6-a6c7-b42eaaacc4aa"
      },
      "outputs": [
        {
          "output_type": "stream",
          "name": "stdout",
          "text": [
            "    R&D Spend  Administration  Marketing Spend       State     Profit\n",
            "0   165349.20       136897.80        471784.10    New York  192261.83\n",
            "1   162597.70       151377.59        443898.53  California  191792.06\n",
            "2   153441.51       101145.55        407934.54     Florida  191050.39\n",
            "3   144372.41       118671.85        383199.62    New York  182901.99\n",
            "4   142107.34        91391.77        366168.42     Florida  166187.94\n",
            "5   131876.90        99814.71        362861.36    New York  156991.12\n",
            "27   72107.60       127864.55        353183.81    New York  105008.31\n",
            "7   130298.13       145530.06        323876.68     Florida  155752.60\n",
            "8   120542.52       148718.95        311613.29    New York  152211.77\n",
            "9   123334.88       108679.17        304981.62  California  149759.96\n",
            "23   67532.53       105751.03        304768.73     Florida  108733.99\n",
            "22   73994.56       122782.75        303319.26     Florida  110352.25\n",
            "21   78389.47       153773.43        299737.29    New York  111313.02\n",
            "20   76253.86       113867.30        298664.47  California  118474.03\n",
            "46    1315.46       115816.21        297114.46     Florida   49490.75\n",
            "18   91749.16       114175.79        294919.57     Florida  124266.90\n",
            "17   94657.16       145077.58        282574.31    New York  125370.37\n",
            "16   78013.11       121597.55        264346.06  California  126992.93\n",
            "15  114523.61       122616.84        261776.23    New York  129917.04\n",
            "14  119943.24       156547.42        256512.92     Florida  132602.65\n",
            "13   91992.39       135495.07        252664.93  California  134307.35\n",
            "12   93863.75       127320.38        249839.44     Florida  141585.52\n",
            "11  100671.96        91790.61        249744.55  California  144259.40\n",
            "10  101913.08       110594.11        229160.95     Florida  146121.95\n",
            "33   55493.95       103057.49        214634.81     Florida   96778.92\n",
            "34   46426.07       157693.92        210797.67  California   96712.80\n",
            "35   46014.02        85047.44        205517.64    New York   96479.51\n",
            "36   28663.76       127056.21        201126.82     Florida   90708.19\n",
            "37   44069.95        51283.14        197029.42  California   89949.14\n",
            "38   20229.59        65947.93        185265.10    New York   81229.06\n",
            "39   38558.51        82982.09        174999.30  California   81005.76\n",
            "40   28754.33       118546.05        172795.67  California   78239.91\n",
            "41   27892.92        84710.77        164470.71     Florida   77798.83\n",
            "42   23640.93        96189.63        148001.11  California   71498.49\n",
            "24   77044.01        99281.34        140574.81    New York  108552.04\n",
            "25   64664.71       139553.16        137962.62  California  107404.34\n",
            "26   75328.87       144135.98        134050.07     Florida  105733.54\n",
            "6   134615.46       147198.87        127716.82  California  156122.51\n",
            "28   66051.52       182645.56        118148.20     Florida  103282.38\n",
            "29   65605.48       153032.06        107138.38    New York  101004.64\n",
            "30   61994.48       115641.28         91131.24     Florida   99937.59\n",
            "31   61136.38       152701.92         88218.23    New York   97483.56\n",
            "32   63408.86       129219.61         46085.25  California   97427.84\n",
            "49       0.00       116983.80         45173.06  California   14681.40\n",
            "43   15505.73       127382.30         35534.17    New York   69758.98\n",
            "44   22177.74       154806.14         28334.72  California   65200.33\n",
            "45    1000.23       124153.04          1903.93    New York   64926.08\n",
            "19   86419.70       153514.11             0.00    New York  122776.86\n",
            "47       0.00       135426.92             0.00  California   42559.73\n",
            "48     542.05        51743.15             0.00    New York   35673.41\n"
          ]
        }
      ],
      "source": [
        "# 10\n",
        "import pandas as pd\n",
        "\n",
        "# Mengimpor dataset\n",
        "url = \"https://raw.githubusercontent.com/michellechandraa/TutorDataMining/main/50_Startups.csv\"\n",
        "dataframe = pd.read_csv(url)\n",
        "\n",
        "# Mengurutkan DataFrame berdasarkan 'Marketing Spend' dari terbesar ke terkecil\n",
        "sorted_dataframe = dataframe.sort_values(by='Marketing Spend', ascending=False)\n",
        "\n",
        "# Menampilkan hasil\n",
        "print(sorted_dataframe)\n"
      ]
    },
    {
      "cell_type": "markdown",
      "metadata": {
        "id": "4OfOaA0xu1er"
      },
      "source": [
        "<h2> Data Cleaning"
      ]
    },
    {
      "cell_type": "markdown",
      "metadata": {
        "id": "Krb_r6quu1es"
      },
      "source": [
        "1. Import dataset berikut ke dalam dataframe.   \n",
        "   dataset : https://raw.githubusercontent.com/michellechandraa/TutorDataMining/main/real_estate.csv\n",
        "2. Tampilkan 10 data random dari dataset di atas\n",
        "3. Cari informasi data dengan menggunakan fungsi describe\n",
        "4. Hapus kolom 'No' dan ubahlah nama kolom dalam dataframe menjadi 'transaction date', 'house age', 'distance to the nearest MRT station', 'number of convinience stores', 'latitude', 'longitude', 'house price of unit area'\n",
        "5. Cek apakah ada missing values dari masing-masing kolom"
      ]
    },
    {
      "cell_type": "code",
      "execution_count": 41,
      "metadata": {
        "id": "NAl8hGLHu1es",
        "colab": {
          "base_uri": "https://localhost:8080/"
        },
        "outputId": "ac0838b2-dbde-4c98-98e9-3cc41f3f5a30"
      },
      "outputs": [
        {
          "output_type": "stream",
          "name": "stdout",
          "text": [
            "   No  X1 transaction date  X2 house age  \\\n",
            "0   1             2012.917          32.0   \n",
            "1   2             2012.917          19.5   \n",
            "2   3             2013.583          13.3   \n",
            "3   4             2013.500          13.3   \n",
            "4   5             2012.833           5.0   \n",
            "\n",
            "   X3 distance to the nearest MRT station  X4 number of convenience stores  \\\n",
            "0                                84.87882                               10   \n",
            "1                               306.59470                                9   \n",
            "2                               561.98450                                5   \n",
            "3                               561.98450                                5   \n",
            "4                               390.56840                                5   \n",
            "\n",
            "   X5 latitude  X6 longitude  Y house price of unit area  \n",
            "0     24.98298     121.54024                        37.9  \n",
            "1     24.98034     121.53951                        42.2  \n",
            "2     24.98746     121.54391                        47.3  \n",
            "3     24.98746     121.54391                        54.8  \n",
            "4     24.97937     121.54245                        43.1  \n"
          ]
        }
      ],
      "source": [
        "# 1\n",
        "import pandas as pd\n",
        "\n",
        "# Mengimpor dataset dari URL\n",
        "url = \"https://raw.githubusercontent.com/michellechandraa/TutorDataMining/main/real_estate.csv\"\n",
        "data = pd.read_csv(url)\n",
        "\n",
        "# Menampilkan 5 baris pertama dari DataFrame\n",
        "print(data.head())\n"
      ]
    },
    {
      "cell_type": "code",
      "execution_count": 42,
      "metadata": {
        "colab": {
          "base_uri": "https://localhost:8080/"
        },
        "id": "YWjZAHGdFXhK",
        "outputId": "f5c46dfc-71a2-4870-f4de-7b9cbde0e3b2"
      },
      "outputs": [
        {
          "output_type": "stream",
          "name": "stdout",
          "text": [
            "      No  X1 transaction date  X2 house age  \\\n",
            "413  414             2013.500           6.5   \n",
            "383  384             2012.667          29.1   \n",
            "71    72             2013.083          35.5   \n",
            "59    60             2013.083          13.3   \n",
            "206  207             2013.250          22.2   \n",
            "107  108             2013.333          12.2   \n",
            "286  287             2012.917           5.9   \n",
            "235  236             2012.750          12.9   \n",
            "241  242             2013.500          13.7   \n",
            "194  195             2013.500          15.2   \n",
            "\n",
            "     X3 distance to the nearest MRT station  X4 number of convenience stores  \\\n",
            "413                                90.45606                                9   \n",
            "383                               506.11440                                4   \n",
            "71                                640.73910                                3   \n",
            "59                                336.05320                                5   \n",
            "206                               379.55750                               10   \n",
            "107                              1360.13900                                1   \n",
            "286                                90.45606                                9   \n",
            "235                               250.63100                                7   \n",
            "241                               250.63100                                7   \n",
            "194                              3771.89500                                0   \n",
            "\n",
            "     X5 latitude  X6 longitude  Y house price of unit area  \n",
            "413     24.97433     121.54310                        63.9  \n",
            "383     24.97845     121.53889                        40.3  \n",
            "71      24.97563     121.53715                        40.8  \n",
            "59      24.95776     121.53438                        42.4  \n",
            "206     24.98343     121.53762                        44.0  \n",
            "107     24.95204     121.54842                        26.6  \n",
            "286     24.97433     121.54310                        56.3  \n",
            "235     24.96606     121.54297                        39.3  \n",
            "241     24.96606     121.54297                        41.4  \n",
            "194     24.93363     121.51158                        29.3  \n"
          ]
        }
      ],
      "source": [
        "# 2\n",
        "import pandas as pd\n",
        "\n",
        "# Mengimpor dataset dari URL\n",
        "url = \"https://raw.githubusercontent.com/michellechandraa/TutorDataMining/main/real_estate.csv\"\n",
        "data = pd.read_csv(url)\n",
        "\n",
        "# Menampilkan 10 data random\n",
        "random_data = data.sample(n=10)\n",
        "print(random_data)\n"
      ]
    },
    {
      "cell_type": "code",
      "execution_count": 43,
      "metadata": {
        "colab": {
          "base_uri": "https://localhost:8080/"
        },
        "id": "WYXICVmkFgAo",
        "outputId": "54334431-e671-480c-afd6-1c53d674e764"
      },
      "outputs": [
        {
          "output_type": "stream",
          "name": "stdout",
          "text": [
            "               No  X1 transaction date  X2 house age  \\\n",
            "count  414.000000           414.000000    414.000000   \n",
            "mean   207.500000          2013.148971     17.712560   \n",
            "std    119.655756             0.281967     11.392485   \n",
            "min      1.000000          2012.667000      0.000000   \n",
            "25%    104.250000          2012.917000      9.025000   \n",
            "50%    207.500000          2013.167000     16.100000   \n",
            "75%    310.750000          2013.417000     28.150000   \n",
            "max    414.000000          2013.583000     43.800000   \n",
            "\n",
            "       X3 distance to the nearest MRT station  \\\n",
            "count                              414.000000   \n",
            "mean                              1083.885689   \n",
            "std                               1262.109595   \n",
            "min                                 23.382840   \n",
            "25%                                289.324800   \n",
            "50%                                492.231300   \n",
            "75%                               1454.279000   \n",
            "max                               6488.021000   \n",
            "\n",
            "       X4 number of convenience stores  X5 latitude  X6 longitude  \\\n",
            "count                       414.000000   414.000000    414.000000   \n",
            "mean                          4.094203    24.969030    121.533361   \n",
            "std                           2.945562     0.012410      0.015347   \n",
            "min                           0.000000    24.932070    121.473530   \n",
            "25%                           1.000000    24.963000    121.528085   \n",
            "50%                           4.000000    24.971100    121.538630   \n",
            "75%                           6.000000    24.977455    121.543305   \n",
            "max                          10.000000    25.014590    121.566270   \n",
            "\n",
            "       Y house price of unit area  \n",
            "count                  414.000000  \n",
            "mean                    37.980193  \n",
            "std                     13.606488  \n",
            "min                      7.600000  \n",
            "25%                     27.700000  \n",
            "50%                     38.450000  \n",
            "75%                     46.600000  \n",
            "max                    117.500000  \n"
          ]
        }
      ],
      "source": [
        "# 3\n",
        "import pandas as pd\n",
        "\n",
        "# Mengimpor dataset dari URL\n",
        "url = \"https://raw.githubusercontent.com/michellechandraa/TutorDataMining/main/real_estate.csv\"\n",
        "data = pd.read_csv(url)\n",
        "\n",
        "# Menggunakan describe untuk mendapatkan informasi statistik\n",
        "description = data.describe()\n",
        "\n",
        "# Menampilkan informasi deskriptif\n",
        "print(description)\n"
      ]
    },
    {
      "cell_type": "code",
      "execution_count": 44,
      "metadata": {
        "colab": {
          "base_uri": "https://localhost:8080/"
        },
        "id": "v1scoJ2bFraH",
        "outputId": "3c45ccb9-b9a6-4066-9f66-5c3edf27b474"
      },
      "outputs": [
        {
          "output_type": "stream",
          "name": "stdout",
          "text": [
            "   transaction date  house age  distance to the nearest MRT station  \\\n",
            "0          2012.917       32.0                             84.87882   \n",
            "1          2012.917       19.5                            306.59470   \n",
            "2          2013.583       13.3                            561.98450   \n",
            "3          2013.500       13.3                            561.98450   \n",
            "4          2012.833        5.0                            390.56840   \n",
            "\n",
            "   number of convenience stores  latitude  longitude  house price of unit area  \n",
            "0                            10  24.98298  121.54024                      37.9  \n",
            "1                             9  24.98034  121.53951                      42.2  \n",
            "2                             5  24.98746  121.54391                      47.3  \n",
            "3                             5  24.98746  121.54391                      54.8  \n",
            "4                             5  24.97937  121.54245                      43.1  \n"
          ]
        }
      ],
      "source": [
        "# 4\n",
        "import pandas as pd\n",
        "\n",
        "# Mengimpor dataset dari URL\n",
        "url = \"https://raw.githubusercontent.com/michellechandraa/TutorDataMining/main/real_estate.csv\"\n",
        "data = pd.read_csv(url)\n",
        "\n",
        "# Menghapus kolom 'No'\n",
        "data = data.drop(columns=['No'])\n",
        "\n",
        "# Mengubah nama kolom\n",
        "data.columns = ['transaction date', 'house age', 'distance to the nearest MRT station',\n",
        "                'number of convenience stores', 'latitude', 'longitude',\n",
        "                'house price of unit area']\n",
        "\n",
        "# Menampilkan DataFrame setelah penghapusan dan pengubahan nama kolom\n",
        "print(data.head())\n"
      ]
    },
    {
      "cell_type": "code",
      "execution_count": 45,
      "metadata": {
        "colab": {
          "base_uri": "https://localhost:8080/"
        },
        "id": "O_EVut8-GE7b",
        "outputId": "65ffbd86-63f4-4af2-e885-0c2fa5a77d7f"
      },
      "outputs": [
        {
          "output_type": "stream",
          "name": "stdout",
          "text": [
            "transaction date                       0\n",
            "house age                              0\n",
            "distance to the nearest MRT station    0\n",
            "number of convenience stores           0\n",
            "latitude                               0\n",
            "longitude                              0\n",
            "house price of unit area               0\n",
            "dtype: int64\n"
          ]
        }
      ],
      "source": [
        "# 5\n",
        "import pandas as pd\n",
        "\n",
        "# Mengimpor dataset dari URL\n",
        "url = \"https://raw.githubusercontent.com/michellechandraa/TutorDataMining/main/real_estate.csv\"\n",
        "data = pd.read_csv(url)\n",
        "\n",
        "# Menghapus kolom 'No'\n",
        "data = data.drop(columns=['No'])\n",
        "\n",
        "# Mengubah nama kolom\n",
        "data.columns = ['transaction date', 'house age', 'distance to the nearest MRT station',\n",
        "                'number of convenience stores', 'latitude', 'longitude',\n",
        "                'house price of unit area']\n",
        "\n",
        "# Mengecek missing values\n",
        "missing_values = data.isnull().sum()\n",
        "\n",
        "# Menampilkan jumlah missing values untuk setiap kolom\n",
        "print(missing_values)\n"
      ]
    },
    {
      "cell_type": "markdown",
      "source": [
        "## **Goodluck :)**\n"
      ],
      "metadata": {
        "id": "0USQVpcWuJTz"
      }
    }
  ],
  "metadata": {
    "colab": {
      "provenance": []
    },
    "kernelspec": {
      "display_name": "Python 3 (ipykernel)",
      "language": "python",
      "name": "python3"
    },
    "language_info": {
      "codemirror_mode": {
        "name": "ipython",
        "version": 3
      },
      "file_extension": ".py",
      "mimetype": "text/x-python",
      "name": "python",
      "nbconvert_exporter": "python",
      "pygments_lexer": "ipython3",
      "version": "3.9.12"
    }
  },
  "nbformat": 4,
  "nbformat_minor": 0
}